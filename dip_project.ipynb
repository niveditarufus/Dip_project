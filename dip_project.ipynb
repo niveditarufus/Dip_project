{
  "nbformat": 4,
  "nbformat_minor": 0,
  "metadata": {
    "colab": {
      "name": "dip_project.ipynb",
      "provenance": []
    },
    "kernelspec": {
      "name": "python3",
      "display_name": "Python 3"
    }
  },
  "cells": [
    {
      "cell_type": "markdown",
      "metadata": {
        "id": "euWmy_HzV93F",
        "colab_type": "text"
      },
      "source": [
        "***A High-Accuracy Rotation Estimation\n",
        "Algorithm Based on 1D Phase-Only Correlation***"
      ]
    },
    {
      "cell_type": "markdown",
      "metadata": {
        "id": "gBigXiYZWL2e",
        "colab_type": "text"
      },
      "source": [
        "**Basic Principle of Image Rotation Estimation**\n",
        "The problem considered here is to\n",
        "estimate the rotation angle θ between two images that are translated and  rotated each other. For estimating the image rotation, we employ the polar mapping of the amplitude spectrum to convert the image rotation into the image translation. Note that the amplitude spectra are not affected by the image shifts, and are rotated with respect to each other at the origin of the spatial frequencies by the same angle as their spatial domain counterparts. The use of polar mapping, we can easily estimate the rotation angle θ."
      ]
    },
    {
      "cell_type": "markdown",
      "metadata": {
        "id": "q8sfOvqYWlCA",
        "colab_type": "text"
      },
      "source": [
        "**Input**\\\n",
        "images f(n1, n2) and g(n1, n2)\\\n",
        "**Output**\\\n",
        "relative rotation angle θ between f(n1, n2) and g(n1, n2)\\\n",
        "**Step 1**\\\n",
        "Calculate 2D DFTs of the discrete images f(n1, n2) and g(n1, n2) to obtain F(k1, k2) and G(k1, k2), where we assume that the index ranges are n1 =\n",
        "−M, ··· , M, n2 = −M, ··· , M, k1 = −M, ··· , M and k2 = −M, ··· , M. The image size is N × N (N = 2M +1). In order to reduce the effect of discontinuity at images border, we also apply 2D Hanning window to the input images f(n1, n2)\n",
        "and g(n1, n2).\\\n",
        "**Step 2**\\\n",
        "Calculate the amplitude spectra |F(k1, k2)| and |G(k1, k2)|. For natural images, most energy is concentrated in low-frequency domain. Hence, we had better\n",
        "to use log{|F(k1, k2)|+1} and log{|G(k1, k2)|+1} instead of |F(k1, k2)|and |G(k1, k2)|.\\\n",
        "**Step 3**\\\n",
        "Calculate the polar mappings FP (l1, l2) and GP (l1, l2) of log{|F(k1, k2)| + 1}\n",
        "and log{|G(k1, k2)| + 1} (Fig. 1 (d)), where the index ranges of the transformed\n",
        "image are l1 = −M, ··· , M and l2 = −M, ··· , M.\\\n",
        "**Step 4**\\\n",
        "Estimate the image displacement between FP (l1, l2) and GP (l1, l2) using the\n",
        "2D POC function to obtain the rotation angle θ, where the displacement in the\n",
        "horizontal direction (l2 direction) corresponds to the image rotation.\n"
      ]
    },
    {
      "cell_type": "code",
      "metadata": {
        "id": "Kq8ep2R4V9BN",
        "colab_type": "code",
        "colab": {}
      },
      "source": [
        "//code for 2d POC based Image registration"
      ],
      "execution_count": 0,
      "outputs": []
    },
    {
      "cell_type": "markdown",
      "metadata": {
        "id": "1rlSgG-EYFhP",
        "colab_type": "text"
      },
      "source": [
        "**1-Dimensional Phase-Only Correlation (1D POC)**\\\n",
        "Consider two 1D image signals, f(n) and g(n), where we assume that the index\n",
        "range is n = −M, ··· , M for mathematical simplicity, and hence the signal length is N = 2M +1. The discussion could be easily generalized to non-negative index ranges with power-of-two signal length. Let F(k) and G(k) denote the Discrete Fourier Transforms (DFTs) of the two signals. F(k) and G(k) are given by :\n",
        "\\begin{aligned} F(k) &=\\sum_{n=-M}^{M} f(n) W_{N}^{k n}=A_{F}(k) e^{j \\theta_{F}(k)} \\\\ G(k) &=\\sum_{n=-M}^{M} g(n) W_{N}^{k n}=A_{G}(k) e^{j \\theta_{G}(k)} \\end{aligned}\n",
        "\n",
        "The cross-phase spectrum (or normalized cross spectrum) R(k) is defined as\n",
        "\n",
        "\\begin{aligned}\n",
        "R(k)=\\frac{F(k) \\overline{G(k)}}{|F(k) \\overline{G(k)}|}=e^{j \\theta(k)}\n",
        "\\end{aligned}\n",
        "\n",
        "The POC function r(n) is the Inverse Discrete Fourier Transform (IDFT) of\n",
        "R(k) and is given by:\n",
        "\n",
        "\\begin{aligned}\n",
        "r(n)=\\frac{1}{N} \\sum_{k=-M}^{M} R(k) W_{N}^{-k n}\n",
        "\\end{aligned}\n",
        "\n",
        "If there is a similarity between two signals, the POC function gives a distinct\n",
        "sharp peak. (When f(n) = g(n), the POC function becomes the Kronecker delta\n",
        "function.) If not, the peak drops significantly. The height of the peak can be used as a good similarity measure for signal matching, and the location of the peak shows the translational displacement between the two signals.\\\n",
        "\n",
        "Now consider fc(t) as a signal defined in continuous space with a real number\n",
        "index t. Let δ represent a displacement of fc(t). So, the displaced signal can be represented as fc(t−δ). Assume that f(n) and g(n) are spatially sampled signals of fc(t) and fc(t − δ), and are defined as\n",
        "\n",
        "\\begin{aligned}\n",
        "f(n)=\\left.f_{c}(t)\\right|_{t=n T}\\\\\n",
        "g(n)=\\left.f_{c}(t - \\delta)\\right|_{t=n T}\n",
        "\\end{aligned}\n",
        "\n",
        "where T is the sampling interval and the index range is given by n = −M, ··· , M. For simplicity, we assume T = 1. The cross-phase spectrum R(k) and the POC\n",
        "function r(n) between f(n) and g(n) will be given by\n",
        "\n",
        "\\begin{aligned} \n",
        "R(k) &=\\frac{F(k) \\overline{G(k)}}{|F(k) \\overline{G(k)}|} \\simeq e^{j \\frac{2 \\pi}{N} k \\delta} \\\\ r(n) &=\\frac{1}{N} \\sum_{k=-M}^{M} R(k) W_{N}^{-k n} \\\\ & \\simeq \\frac{\\alpha}{N} \\frac{\\sin \\{\\pi(n+\\delta)\\}}{\\sin \\left\\{\\frac{\\pi}{N}(n+\\delta)\\right\\}} \n",
        "\\end{aligned}\n",
        "For the signal matching task, we evaluate the similarity between the two signals by the peak value α, and estimate the displacement by the peak position δ."
      ]
    },
    {
      "cell_type": "code",
      "metadata": {
        "id": "3WrbWQKldsT-",
        "colab_type": "code",
        "colab": {}
      },
      "source": [
        "//1d POC code and plots"
      ],
      "execution_count": 0,
      "outputs": []
    },
    {
      "cell_type": "markdown",
      "metadata": {
        "id": "K3MBJfyUXhk5",
        "colab_type": "text"
      },
      "source": [
        "**Rotation Estimation Algorithm Using 1D Phase-Only Correlation**\\\n",
        "We now need to formulate the rotation estimation algorithm using a 1D POC function. The image rotation is represented as horizontal displacements between two polar mappings. The problem of rotation estimation is replaced to 1D displacement estimation between row lines in two polar mappings. The use of 1D POC function makes it possible to reduce the computational cost significantly for estimating the rotation angle.\\\n",
        "To estimate the rotation angle θ, we calculate 1D POC functions for every pairs\n",
        "of row lines in two polar mappings, and then summarize all 1D POC functions\n",
        "to obtain θ. In the calculation of 1D POC functions, we need to use only the\n",
        "effective lines (effective frequency bands), since the amplitude spectra include\n",
        "meaningless frequency components for image rotation. The proposed algorithm\n",
        "consists of two steps: (i) effective line extraction and (ii) rotation estimation using 1D POC. The followings are detailed procedures for the proposed algorithm."
      ]
    },
    {
      "cell_type": "code",
      "metadata": {
        "id": "_zk7atX-evRu",
        "colab_type": "code",
        "colab": {}
      },
      "source": [
        "Code to plt the ground truth image "
      ],
      "execution_count": 0,
      "outputs": []
    },
    {
      "cell_type": "code",
      "metadata": {
        "id": "_tyGHke7evUn",
        "colab_type": "code",
        "colab": {}
      },
      "source": [
        "Code to plt the rotated image"
      ],
      "execution_count": 0,
      "outputs": []
    },
    {
      "cell_type": "markdown",
      "metadata": {
        "id": "ES6KlqazepdB",
        "colab_type": "text"
      },
      "source": [
        "\n",
        "**(i) Effective line extraction**\\\n",
        "**Input**\\\n",
        "registered image f(n1, n2)\\\n",
        "**Output**\\\n",
        "indices l of effective lines\\\n",
        "**Step 1**\\\n",
        "Generate the rotated image f(n1, n2) by rotating the registered image\n",
        "f(n1, n2) by Θ degree, where Θ = 30 in this paper.\\\n",
        "**Step 2**\\\n",
        "Calculate the polar mappings FP (l1, l2) and FP (l1, l2) of f(n1, n2) and f(n1, n2), respectively.\\\n",
        "**Step 3**\\\n",
        "Extract 1D image signals ul1 (l2) and u\n",
        "l1 (l2) in the horizontal direction (l2\n",
        "direction) from FP (l1, l2) and FP (l1, l2), respectively, as shown in Fig. 3. Next, we calculate the 1D POC functions rl1 (l2) between ul1 (l2) and ul1 (l2), and obtain the displacement δl1 and the correlation peak value αl1 . The number of 1D POC functions is N.\\\n",
        "**Step 4**\\\n",
        "Select indices l by comparing between δl1 and Θ as follows:\n",
        "l = {l1 : |δl1 − NΘ/π| < δth, −M ≤ l1 ≤ M}, where δth = 1 in this paper. Note that NΘ/π indicates the displacement between two polar mappings which is equivalent to the rotation angle Θ.\\\n",
        "**Step 5**\\\n",
        "Update the indices l by extracting upper half of the correlation peak value\n",
        "αi.\\"
      ]
    },
    {
      "cell_type": "code",
      "metadata": {
        "id": "_5-iXHrCdyuC",
        "colab_type": "code",
        "colab": {}
      },
      "source": [
        "//line selection"
      ],
      "execution_count": 0,
      "outputs": []
    },
    {
      "cell_type": "markdown",
      "metadata": {
        "id": "rzhIS3dTd_Qq",
        "colab_type": "text"
      },
      "source": [
        "\\\n",
        "**(ii) Rotation estimation using 1D POC function**\\\n",
        "**Input**\\\n",
        "registered image f(n1, n2), input image g(n1, n2) and indices l of effective\n",
        "lines\\\n",
        "**Output**\\\n",
        "rotation angle θ\\\n",
        "**Step 1**\\\n",
        "Calculate the polar mappings FP (l1, l2) and GP (l1, l2) of f(n1, n2) and\n",
        "g(n1, n2), respectively.\\\n",
        "**Step 2**\\\n",
        "Extract 1D image signals ul1 (l2) and vl1 (l2) in the horizontal direction (l2\n",
        "direction) from FP (l1, l2) and GP (l1, l2), respectively, where l1 ∈ l. Next, we calculate the 1D POC functions rl1 (l2) between ul1 (l2) and vl1 (l2), where the number of 1D POC functions equals to the number of effective lines.\\\n",
        "**Step 3**\\\n",
        "Calculate the average of all 1D POC functions rl1 (l2), which denotes rall(l2)\n",
        "(Fig. 5). Next, we obtain the displacement δ from the peak location of the\n",
        "averaged 1D POC function rall(l2). Then, we calculate the rotation angle θ as\n",
        "θ = δπ/N.\\"
      ]
    },
    {
      "cell_type": "code",
      "metadata": {
        "id": "HdYv9pUZdyrW",
        "colab_type": "code",
        "colab": {}
      },
      "source": [
        "//rotation estimation "
      ],
      "execution_count": 0,
      "outputs": []
    }
  ]
}