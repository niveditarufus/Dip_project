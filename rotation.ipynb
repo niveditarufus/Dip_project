{
 "cells": [
  {
   "cell_type": "code",
   "execution_count": 17,
   "metadata": {},
   "outputs": [
    {
     "data": {
      "text/plain": [
       "True"
      ]
     },
     "execution_count": 17,
     "metadata": {},
     "output_type": "execute_result"
    }
   ],
   "source": [
    "import cv2\n",
    "img1 = cv2.imread('./input images/wood.png',0)\n",
    "testtheta = -150\n",
    "cx,cy = img1.shape\n",
    "\n",
    "M = cv2.getRotationMatrix2D((cx/2,cy/2), testtheta, 1)\n",
    "rotated = cv2.warpAffine(img1, M, (cx, cy))\n",
    "\n",
    "cv2.imwrite('./rotated/wood_neg150.png',rotated)\n",
    "cv2.imwrite('./input images/wood.png',img1)"
   ]
  },
  {
   "cell_type": "code",
   "execution_count": null,
   "metadata": {},
   "outputs": [],
   "source": []
  }
 ],
 "metadata": {
  "kernelspec": {
   "display_name": "Python 3",
   "language": "python",
   "name": "python3"
  },
  "language_info": {
   "codemirror_mode": {
    "name": "ipython",
    "version": 3
   },
   "file_extension": ".py",
   "mimetype": "text/x-python",
   "name": "python",
   "nbconvert_exporter": "python",
   "pygments_lexer": "ipython3",
   "version": "3.6.8"
  }
 },
 "nbformat": 4,
 "nbformat_minor": 2
}
